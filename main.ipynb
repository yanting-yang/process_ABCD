{
 "cells": [
  {
   "cell_type": "code",
   "execution_count": 4,
   "id": "51073c54",
   "metadata": {},
   "outputs": [],
   "source": [
    "import json\n",
    "from pathlib import Path\n",
    "import tarfile\n",
    "import tempfile\n",
    "\n",
    "import nibabel as nib\n",
    "from nilearn.maskers import NiftiMapsMasker\n",
    "import numpy as np"
   ]
  },
  {
   "cell_type": "code",
   "execution_count": 10,
   "id": "642e7fea",
   "metadata": {},
   "outputs": [],
   "source": [
    "p = './NDARINV6G63TU7R_baselineYear1Arm1_ABCD-MPROC-rsfMRI_20180427114950.tgz'\n",
    "with tarfile.open(p, 'r:gz') as tar:\n",
    "    tar.extractall()"
   ]
  },
  {
   "cell_type": "code",
   "execution_count": null,
   "id": "6e381c02",
   "metadata": {},
   "outputs": [
    {
     "name": "stdout",
     "output_type": "stream",
     "text": [
      "[NiftiMapsMasker.wrapped] loading regions from None\n",
      "[NiftiMapsMasker.wrapped] Resampling maps\n",
      "[NiftiMapsMasker.wrapped] Loading data from Nifti1Image('/tmp/tmp6jjv4q1i/sub-NDARINV6G63TU7R/ses-baselineYear1Arm1/func/sub-NDARINV6G63TU7R_ses-baselineYear1Arm1_task-rest_run-01_bold.nii')\n",
      "[NiftiMapsMasker.wrapped] Extracting region signals\n",
      "[NiftiMapsMasker.wrapped] Cleaning extracted signals\n"
     ]
    }
   ],
   "source": [
    "p = './NDARINV6G63TU7R_baselineYear1Arm1_ABCD-MPROC-rsfMRI_20180427114950.tgz'\n",
    "maps_img = nib.load('./difumo64.nii.gz')\n",
    "save_dir = Path('./')\n",
    "\n",
    "with tarfile.open(p, 'r:gz') as tar:\n",
    "    # Extract all members to a temporary directory\n",
    "    with tempfile.TemporaryDirectory() as temp_dir:\n",
    "        tar.extractall(path=temp_dir)\n",
    "        confounds = list(Path(temp_dir).glob('**/*motion.tsv'))[0]\n",
    "        nii_file = list(Path(temp_dir).glob('**/*.nii'))[0]\n",
    "        json_file = list(Path(temp_dir).glob('**/*bold.json'))[0]\n",
    "        name = nii_file.stem\n",
    "\n",
    "        # Read the JSON file\n",
    "        with open(json_file) as f:\n",
    "            json_data = json.load(f)\n",
    "        t_r = json_data['RepetitionTime']\n",
    "\n",
    "        img = nib.load(nii_file)\n",
    "\n",
    "        masker = NiftiMapsMasker(\n",
    "            maps_img=maps_img,\n",
    "            standardize=\"zscore_sample\",\n",
    "            detrend=True,\n",
    "            t_r=t_r,\n",
    "            dtype=np.float32,\n",
    "            verbose=1\n",
    "        )\n",
    "\n",
    "        img_masked = masker.fit_transform(img, confounds)\n",
    "        np.save(save_dir / f'{name}.npy', img_masked)"
   ]
  },
  {
   "cell_type": "code",
   "execution_count": 6,
   "id": "3d458301",
   "metadata": {},
   "outputs": [
    {
     "data": {
      "text/plain": [
       "((391, 64), dtype('float32'))"
      ]
     },
     "execution_count": 6,
     "metadata": {},
     "output_type": "execute_result"
    }
   ],
   "source": [
    "data = np.load('./NDARINV6G63TU7R_baselineYear1Arm1_ABCD-MPROC-rsfMRI_20180427114950.npy')\n",
    "data.shape, data.dtype"
   ]
  },
  {
   "cell_type": "code",
   "execution_count": null,
   "id": "a69c153b",
   "metadata": {},
   "outputs": [],
   "source": []
  }
 ],
 "metadata": {
  "kernelspec": {
   "display_name": "process_ABCD",
   "language": "python",
   "name": "python3"
  },
  "language_info": {
   "codemirror_mode": {
    "name": "ipython",
    "version": 3
   },
   "file_extension": ".py",
   "mimetype": "text/x-python",
   "name": "python",
   "nbconvert_exporter": "python",
   "pygments_lexer": "ipython3",
   "version": "3.11.11"
  }
 },
 "nbformat": 4,
 "nbformat_minor": 5
}
